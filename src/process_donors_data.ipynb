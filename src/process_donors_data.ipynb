{
 "cells": [
  {
   "cell_type": "markdown",
   "metadata": {},
   "source": [
    "<h1>Test notebook 1</h1>"
   ]
  },
  {
   "cell_type": "code",
   "execution_count": 85,
   "metadata": {
    "collapsed": true,
    "scrolled": true
   },
   "outputs": [],
   "source": [
    "import pandas as pd\n",
    "import sys\n",
    "from datetime import date\n",
    "import numpy as np\n",
    "import concurrent.futures\n",
    "import time"
   ]
  },
  {
   "cell_type": "code",
   "execution_count": 86,
   "metadata": {
    "collapsed": true
   },
   "outputs": [],
   "source": [
    "# read arguments for shell script\n",
    "# input_filename = sys.argv[1]\n",
    "# output_filename_zip = sys.argv[2]\n",
    "# output_filename_date = sys.argv[2]"
   ]
  },
  {
   "cell_type": "code",
   "execution_count": 87,
   "metadata": {
    "collapsed": true
   },
   "outputs": [],
   "source": [
    "def insert_relevant_entries(all_entries_list):\n",
    "    relevant_indeces = [0, 10, 13, 14]\n",
    "    add_list = []\n",
    "    for index in relevant_indeces:\n",
    "        if index == 10 and len(all_entries_list[index]) > 5: # if provided zip-code has 9 digits, use only the first 5\n",
    "            all_entries_list[index] = all_entries_list[index][:5]\n",
    "            add_list.append(all_entries_list[index][:5])\n",
    "        else:\n",
    "            add_list.append(all_entries_list[index])\n",
    "    \n",
    "    if is_date_valid(add_list[2]):\n",
    "        date_list = add_list + [format_date(add_list[2])]\n",
    "        wrap.append(date_list)\n",
    "    \n",
    "    return add_list"
   ]
  },
  {
   "cell_type": "code",
   "execution_count": 88,
   "metadata": {
    "collapsed": true
   },
   "outputs": [],
   "source": [
    "def format_date(date):\n",
    "    formatted = date[:2] + '/' + date[2:4] + '/' + date[4:]\n",
    "    return formatted"
   ]
  },
  {
   "cell_type": "code",
   "execution_count": 89,
   "metadata": {
    "collapsed": true
   },
   "outputs": [],
   "source": [
    "# calculate running median using maxheap and minheap\n"
   ]
  },
  {
   "cell_type": "code",
   "execution_count": 90,
   "metadata": {
    "collapsed": true
   },
   "outputs": [],
   "source": [
    "# check if zip-code is valid\n",
    "# zipcode has to be 5 digits long, only numeric zipcodes are valid in USA\n",
    "\n",
    "def is_zip_valid(zipcode):\n",
    "    if len(zipcode) == 5 and zipcode.isnumeric():\n",
    "        return True\n",
    "    else:\n",
    "        return False"
   ]
  },
  {
   "cell_type": "code",
   "execution_count": 91,
   "metadata": {
    "collapsed": true
   },
   "outputs": [],
   "source": [
    "# check if date is valid\n",
    "# assumes data has been collected from 2015 to 2017 (present)\n",
    "\n",
    "def is_date_valid(checkdate):\n",
    "    is_valid = False\n",
    "    if len(checkdate) != 8:\n",
    "        return False\n",
    "    today = str(date.today()).replace('-','')\n",
    "    if today.isnumeric():\n",
    "        month = int(checkdate[:2])\n",
    "        day = int(checkdate[2:4])\n",
    "        year = int(checkdate[4:])\n",
    "        mon_with_31_days = [1, 3, 5, 7, 8, 10, 12]\n",
    "        mon_with_30_days = [4, 6, 9, 11]\n",
    "        if year < 2015 and year > int(today[:4]): # we don't know the future and don't take past into account\n",
    "            return False\n",
    "        if month < 1 and month > 12:\n",
    "            return False\n",
    "        if month == 2 and ((year != 2016 and day == 29) or (day > 28)): # Feb 29 only happened in 2016\n",
    "            return False\n",
    "        if day < 1:\n",
    "            return False\n",
    "        if month in mon_with_31_days and day > 31:\n",
    "            return False\n",
    "        if month in mon_with_30_days and day > 30:\n",
    "            return False\n",
    "        return True\n",
    "\n",
    "    return False"
   ]
  },
  {
   "cell_type": "code",
   "execution_count": null,
   "metadata": {
    "collapsed": true
   },
   "outputs": [],
   "source": []
  },
  {
   "cell_type": "code",
   "execution_count": 92,
   "metadata": {
    "collapsed": true
   },
   "outputs": [],
   "source": [
    "def update_zipcodes_dict(key, val_to_add):\n",
    "    num_same_zipcodes_so_far[key][0] += 1\n",
    "    num_same_zipcodes_so_far[key][1] += val_to_add"
   ]
  },
  {
   "cell_type": "code",
   "execution_count": 93,
   "metadata": {
    "collapsed": true
   },
   "outputs": [],
   "source": [
    "#def calculate_running_median_by_zip(new_value):\n",
    "    \n",
    "    "
   ]
  },
  {
   "cell_type": "code",
   "execution_count": 94,
   "metadata": {
    "collapsed": true
   },
   "outputs": [],
   "source": [
    "#def calculate_running_median_by_date(new_value):"
   ]
  },
  {
   "cell_type": "markdown",
   "metadata": {},
   "source": [
    "Setup all relevant data structures"
   ]
  },
  {
   "cell_type": "code",
   "execution_count": 95,
   "metadata": {
    "collapsed": true
   },
   "outputs": [],
   "source": [
    "f = open(\"/Users/sangencre/Desktop/NYU/fall_17/Insight_DE_challenge/my_solution/tests/tests/test_1/input/itcont.txt\")\n",
    "# input_file = open(input_filename, 'r')\n",
    "# output_file_zip = open(output_filename_zip, 'w')\n",
    "# output_file_date = open(output_filename_date, 'w')\n",
    "f_out = open(\"/Users/sangencre/Desktop/NYU/fall_17/Insight_DE_challenge/my_solution/tests/tests/test_1/input/out_file.txt\", \"w\")\n",
    "wrap = []\n",
    "num_same_zipcodes_so_far = {}\n",
    "num_same_dates_so_far = {}\n",
    "zipcodes_total = 0\n",
    "dates_total = 0\n",
    "\n",
    "# with open(inFile,'r') as i:\n",
    "#     lines = i.readlines()\n",
    "\n",
    "# processedLines = manipulateData(lines)\n",
    "\n",
    "# with open(outFile,'w') as o:\n",
    "#     for line in processedLines:\n",
    "#         o.write(line)"
   ]
  },
  {
   "cell_type": "code",
   "execution_count": 96,
   "metadata": {},
   "outputs": [
    {
     "name": "stdout",
     "output_type": "stream",
     "text": [
      "20.338826894760132\n"
     ]
    }
   ],
   "source": [
    "start=time.time()\n",
    "\n",
    "\n",
    "next = f.readline()\n",
    "while next != '':\n",
    "    if curr != '\\n':\n",
    "        curr = next.split('|')\n",
    "        if curr[15] == '' and curr[0] != '' and curr[14] !='': # if OTHER_ID non-empty, ignore the record\n",
    "            curr[-1] = curr[-1].rstrip() # remove newline character\n",
    "            current_data_list = insert_relevant_entries(curr) # id, zip, date, contribution\n",
    "\n",
    "            current_id = current_data_list[0]\n",
    "            current_zip = current_data_list[1]\n",
    "            current_date = current_data_list[2]\n",
    "            current_contribution = int(current_data_list[3])\n",
    "\n",
    "            if is_zip_valid(current_zip):\n",
    "                if current_zip in num_same_zipcodes_so_far: # this check takes O(1)\n",
    "                    update_zipcodes_dict(current_zip, current_contribution)\n",
    "                else:\n",
    "                    num_same_zipcodes_so_far[current_data_list[1]] = [1, current_contribution]\n",
    "    #             median = calculate_running_median_by_zip(current_contribution) \n",
    "                median = 'median'\n",
    "\n",
    "                for element in current_data_list[:2]:\n",
    "                    f_out.write(element + '|')\n",
    "                f_out.write(median + '|')\n",
    "                f_out.write(str(num_same_zipcodes_so_far[current_zip][0]) + '|')\n",
    "                f_out.write(str(num_same_zipcodes_so_far[current_zip][1]) + '\\n')\n",
    "        \n",
    "#         if is_date_valid(current_date):\n",
    "            \n",
    "#             if current_date in num_same_dates_so_far: # this check takes O(1)\n",
    "# #                 update_dates_dict(current_date, current_contribution)\n",
    "#             else:\n",
    "#                 num_same_dates_so_far[current_date] = [1, current_contribution]\n",
    "# #             median = calculate_running_median_by_date(current_contribution)\n",
    "            \n",
    "    next = f.readline()\n",
    "\n",
    "# for el in wrap:\n",
    "#     print(el)\n",
    "# print(\"zipcodes\")\n",
    "# for el in num_same_zipcodes_so_far:\n",
    "#     print(el)\n",
    "#     print(num_same_zipcodes_so_far[el])\n",
    "# print(\"dates\")\n",
    "# for el in num_same_dates_so_far:\n",
    "#     print(el)\n",
    "#     print(num_same_dates_so_far[el])\n",
    "\n",
    "df = pd.DataFrame(wrap, columns=['ID', 'zip', 'dateorig', 'contr', 'date'])\n",
    "\n",
    "df['date'] = pd.to_datetime(df.date)\n",
    "\n",
    "df.sort_values(by=['ID', 'date'], inplace=True)\n",
    "# df.head(7)\n",
    "\n",
    "\n",
    "print(time.time()-start)\n",
    "#f.close()"
   ]
  },
  {
   "cell_type": "code",
   "execution_count": null,
   "metadata": {
    "collapsed": true
   },
   "outputs": [],
   "source": []
  },
  {
   "cell_type": "code",
   "execution_count": 20,
   "metadata": {},
   "outputs": [
    {
     "data": {
      "text/html": [
       "<div>\n",
       "<style>\n",
       "    .dataframe thead tr:only-child th {\n",
       "        text-align: right;\n",
       "    }\n",
       "\n",
       "    .dataframe thead th {\n",
       "        text-align: left;\n",
       "    }\n",
       "\n",
       "    .dataframe tbody tr th {\n",
       "        vertical-align: top;\n",
       "    }\n",
       "</style>\n",
       "<table border=\"1\" class=\"dataframe\">\n",
       "  <thead>\n",
       "    <tr style=\"text-align: right;\">\n",
       "      <th></th>\n",
       "      <th>ID</th>\n",
       "      <th>zip</th>\n",
       "      <th>dateorig</th>\n",
       "      <th>contr</th>\n",
       "      <th>date</th>\n",
       "    </tr>\n",
       "  </thead>\n",
       "  <tbody>\n",
       "    <tr>\n",
       "      <th>0</th>\n",
       "      <td>C00177436</td>\n",
       "      <td>30004</td>\n",
       "      <td>01312017</td>\n",
       "      <td>384</td>\n",
       "      <td>2017-01-31</td>\n",
       "    </tr>\n",
       "    <tr>\n",
       "      <th>2</th>\n",
       "      <td>C00177436</td>\n",
       "      <td>30750</td>\n",
       "      <td>01312017</td>\n",
       "      <td>230</td>\n",
       "      <td>2017-01-31</td>\n",
       "    </tr>\n",
       "    <tr>\n",
       "      <th>3</th>\n",
       "      <td>C00177436</td>\n",
       "      <td>04105</td>\n",
       "      <td>01312017</td>\n",
       "      <td>384</td>\n",
       "      <td>2017-01-31</td>\n",
       "    </tr>\n",
       "    <tr>\n",
       "      <th>5</th>\n",
       "      <td>C00177436</td>\n",
       "      <td>04105</td>\n",
       "      <td>01312017</td>\n",
       "      <td>384</td>\n",
       "      <td>2017-01-31</td>\n",
       "    </tr>\n",
       "    <tr>\n",
       "      <th>1</th>\n",
       "      <td>C00384818</td>\n",
       "      <td>02895</td>\n",
       "      <td>01122017</td>\n",
       "      <td>250</td>\n",
       "      <td>2017-01-12</td>\n",
       "    </tr>\n",
       "    <tr>\n",
       "      <th>4</th>\n",
       "      <td>C00384818</td>\n",
       "      <td>02895</td>\n",
       "      <td>01122017</td>\n",
       "      <td>333</td>\n",
       "      <td>2017-01-12</td>\n",
       "    </tr>\n",
       "  </tbody>\n",
       "</table>\n",
       "</div>"
      ],
      "text/plain": [
       "          ID    zip  dateorig contr       date\n",
       "0  C00177436  30004  01312017   384 2017-01-31\n",
       "2  C00177436  30750  01312017   230 2017-01-31\n",
       "3  C00177436  04105  01312017   384 2017-01-31\n",
       "5  C00177436  04105  01312017   384 2017-01-31\n",
       "1  C00384818  02895  01122017   250 2017-01-12\n",
       "4  C00384818  02895  01122017   333 2017-01-12"
      ]
     },
     "execution_count": 20,
     "metadata": {},
     "output_type": "execute_result"
    }
   ],
   "source": [
    "df.head(7)"
   ]
  },
  {
   "cell_type": "code",
   "execution_count": 102,
   "metadata": {
    "collapsed": true
   },
   "outputs": [],
   "source": [
    "# f_out = open(\"/Users/sangencre/Desktop/NYU/fall_17/Insight_DE_challenge/my_solution/tests/tests/test_1/input/out_file.txt\", \"w\")\n",
    "# for el in wrap:\n",
    "#     for el2 in el[:-1]:\n",
    "#         f_out.write(el2 + '|')\n",
    "#     f_out.write(el[-1] + '\\n')\n",
    "f_out.close()"
   ]
  },
  {
   "cell_type": "code",
   "execution_count": null,
   "metadata": {
    "collapsed": true
   },
   "outputs": [],
   "source": []
  },
  {
   "cell_type": "code",
   "execution_count": null,
   "metadata": {
    "collapsed": true
   },
   "outputs": [],
   "source": []
  }
 ],
 "metadata": {
  "kernelspec": {
   "display_name": "Python 3",
   "language": "python",
   "name": "python3"
  },
  "language_info": {
   "codemirror_mode": {
    "name": "ipython",
    "version": 3
   },
   "file_extension": ".py",
   "mimetype": "text/x-python",
   "name": "python",
   "nbconvert_exporter": "python",
   "pygments_lexer": "ipython3",
   "version": "3.6.2"
  }
 },
 "nbformat": 4,
 "nbformat_minor": 2
}
