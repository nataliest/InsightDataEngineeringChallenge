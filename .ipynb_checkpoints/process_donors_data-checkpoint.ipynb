{
 "cells": [
  {
   "cell_type": "markdown",
   "metadata": {},
   "source": [
    "<h1>Test notebook 1</h1>"
   ]
  },
  {
   "cell_type": "code",
   "execution_count": 37,
   "metadata": {
    "collapsed": true,
    "scrolled": true
   },
   "outputs": [],
   "source": [
    "import pandas as pd\n"
   ]
  },
  {
   "cell_type": "code",
   "execution_count": 38,
   "metadata": {
    "collapsed": true
   },
   "outputs": [],
   "source": [
    "def insert_relevant_entries(all_entries_list, wrapper_list):\n",
    "    relevant_indeces = [0, 10, 13, 14]\n",
    "    add_list = []\n",
    "    for index in relevant_indeces:\n",
    "        if index == 10 and len(all_entries_list[index]) > 5: # if provided zip-code has 9 digits, use only the first 5\n",
    "            add_list.append(all_entries_list[index][:5])\n",
    "        else:\n",
    "            add_list.append(all_entries_list[index])\n",
    "    wrapper_list.append(add_list)"
   ]
  },
  {
   "cell_type": "markdown",
   "metadata": {},
   "source": [
    "Setup all relevant data structures"
   ]
  },
  {
   "cell_type": "code",
   "execution_count": 39,
   "metadata": {
    "collapsed": true
   },
   "outputs": [],
   "source": [
    "f = open(\"/Users/sangencre/Desktop/NYU/fall_17/Insight_DE_challenge/my_solution/tests/tests/test_1/input/itcont.txt\")\n",
    "\n",
    "wrap = []\n",
    "keep_track_of_donations = {}"
   ]
  },
  {
   "cell_type": "code",
   "execution_count": 40,
   "metadata": {},
   "outputs": [
    {
     "name": "stdout",
     "output_type": "stream",
     "text": [
      "['C00177436', '30004', '01312017', '384']\n",
      "['C00384818', '02895', '01122017', '250']\n",
      "['C00177436', '30750', '01312017', '230']\n",
      "['C00177436', '04105', '01312017', '384']\n",
      "['C00384818', '02895', '01122017', '333']\n",
      "['C00177436', '04105', '01312017', '384']\n",
      "C00177436\n",
      "4\n",
      "C00384818\n",
      "2\n"
     ]
    }
   ],
   "source": [
    "next = f.readline()\n",
    "while next != \"\":\n",
    "    curr = next.split('|')\n",
    "    if curr[15] == '': # if OTHER_ID non-empty, ignore the record\n",
    "        curr[-1] = curr[-1].rstrip()\n",
    "        insert_relevant_entries(curr, wrap)\n",
    "        if curr[0] in keep_track_of_donations:\n",
    "            keep_track_of_donations[curr[0]] += 1\n",
    "        else:\n",
    "            keep_track_of_donations[curr[0]] = 1\n",
    "    next = f.readline()\n",
    "for el in wrap:\n",
    "    print(el)\n",
    "for el in keep_track_of_donations:\n",
    "    print(el)\n",
    "    print(keep_track_of_donations[el])\n",
    "df = pd.DataFrame(wrap)\n",
    "df.head(7)\n",
    "f.close()"
   ]
  },
  {
   "cell_type": "code",
   "execution_count": 42,
   "metadata": {
    "collapsed": true
   },
   "outputs": [],
   "source": [
    "f_out = open(\"/Users/sangencre/Desktop/NYU/fall_17/Insight_DE_challenge/my_solution/tests/tests/test_1/input/out_file.txt\", \"w\")\n",
    "for el in wrap:\n",
    "    for el2 in el[:-1]:\n",
    "        f_out.write(el2 + '|')\n",
    "    f_out.write(el[-1] + '\\n')\n",
    "f_out.close()"
   ]
  },
  {
   "cell_type": "code",
   "execution_count": null,
   "metadata": {
    "collapsed": true
   },
   "outputs": [],
   "source": []
  },
  {
   "cell_type": "code",
   "execution_count": null,
   "metadata": {
    "collapsed": true
   },
   "outputs": [],
   "source": []
  }
 ],
 "metadata": {
  "kernelspec": {
   "display_name": "Python 2",
   "language": "python",
   "name": "python2"
  },
  "language_info": {
   "codemirror_mode": {
    "name": "ipython",
    "version": 2
   },
   "file_extension": ".py",
   "mimetype": "text/x-python",
   "name": "python",
   "nbconvert_exporter": "python",
   "pygments_lexer": "ipython2",
   "version": "2.7.13"
  }
 },
 "nbformat": 4,
 "nbformat_minor": 2
}
