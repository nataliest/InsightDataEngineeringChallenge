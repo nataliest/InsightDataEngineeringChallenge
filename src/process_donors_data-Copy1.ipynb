{
 "cells": [
  {
   "cell_type": "markdown",
   "metadata": {},
   "source": [
    "<h1>Test notebook 1</h1>"
   ]
  },
  {
   "cell_type": "code",
   "execution_count": 1,
   "metadata": {
    "collapsed": true,
    "scrolled": true
   },
   "outputs": [],
   "source": [
    "import pandas as pd\n",
    "import sys\n",
    "from datetime import date\n",
    "import numpy as np\n",
    "import concurrent.futures\n",
    "import time\n",
    "# import os\n",
    "# import tempfile"
   ]
  },
  {
   "cell_type": "code",
   "execution_count": 2,
   "metadata": {
    "collapsed": true
   },
   "outputs": [],
   "source": [
    "# read arguments for shell script\n",
    "# input_filename = sys.argv[1]\n",
    "# output_filename_zip = sys.argv[2]\n",
    "# output_filename_date = sys.argv[2]"
   ]
  },
  {
   "cell_type": "code",
   "execution_count": 3,
   "metadata": {
    "collapsed": true
   },
   "outputs": [],
   "source": [
    "def format_relevant_entries(all_entries_list):\n",
    "    relevant_indeces = [0, 10, 13, 14]\n",
    "    add_list = []\n",
    "    for index in relevant_indeces:\n",
    "        if index == 10 and len(all_entries_list[index]) > 5: # if provided zip-code has 9 digits, use only the first 5\n",
    "            all_entries_list[index] = all_entries_list[index][:5]\n",
    "            add_list.append(all_entries_list[index][:5])\n",
    "        else:\n",
    "            add_list.append(all_entries_list[index])\n",
    "    \n",
    "#     if is_date_valid(add_list[2]):\n",
    "#         date_list = add_list + [format_date(add_list[2])]\n",
    "#         wrap.append(date_list)\n",
    "    \n",
    "    return add_list"
   ]
  },
  {
   "cell_type": "code",
   "execution_count": 4,
   "metadata": {
    "collapsed": true
   },
   "outputs": [],
   "source": [
    "def format_date(date):\n",
    "    formatted = date[:2] + '/' + date[2:4] + '/' + date[4:]\n",
    "    return formatted"
   ]
  },
  {
   "cell_type": "code",
   "execution_count": 5,
   "metadata": {
    "collapsed": true
   },
   "outputs": [],
   "source": [
    "# calculate running median using maxheap and minheap\n"
   ]
  },
  {
   "cell_type": "code",
   "execution_count": 6,
   "metadata": {
    "collapsed": true
   },
   "outputs": [],
   "source": [
    "# check if zip-code is valid\n",
    "# zipcode has to be 5 digits long, only numeric zipcodes are valid in USA\n",
    "\n",
    "def is_zip_valid(zipcode):\n",
    "    if len(zipcode) == 5 and zipcode.isnumeric():\n",
    "        return True\n",
    "    else:\n",
    "        return False"
   ]
  },
  {
   "cell_type": "code",
   "execution_count": 7,
   "metadata": {
    "collapsed": true
   },
   "outputs": [],
   "source": [
    "# check if date is valid\n",
    "# assumes data has been collected from 2015 to 2017 (present)\n",
    "from datetime import date\n",
    "def is_date_valid(checkdate):\n",
    "    is_valid = False\n",
    "    if len(checkdate) != 8:\n",
    "        return False\n",
    "    today = str(date.today()).replace('-','')\n",
    "    if today.isnumeric():\n",
    "        month = int(checkdate[:2])\n",
    "        day = int(checkdate[2:4])\n",
    "        year = int(checkdate[4:])\n",
    "        mon_with_31_days = [1, 3, 5, 7, 8, 10, 12]\n",
    "        mon_with_30_days = [4, 6, 9, 11]\n",
    "        if year < 2015 and year > int(today[:4]): # we don't know the future and don't take past into account\n",
    "            return False\n",
    "        if month < 1 and month > 12:\n",
    "            return False\n",
    "        if month == 2 and ((year != 2016 and day == 29) or (day > 28)): # Feb 29 only happened in 2016\n",
    "            return False\n",
    "        if day < 1:\n",
    "            return False\n",
    "        if month in mon_with_31_days and day > 31:\n",
    "            return False\n",
    "        if month in mon_with_30_days and day > 30:\n",
    "            return False\n",
    "        return True\n",
    "\n",
    "    return False"
   ]
  },
  {
   "cell_type": "code",
   "execution_count": null,
   "metadata": {
    "collapsed": true
   },
   "outputs": [],
   "source": []
  },
  {
   "cell_type": "code",
   "execution_count": 8,
   "metadata": {
    "collapsed": true
   },
   "outputs": [],
   "source": [
    "def update_zipcodes_dict(key, val_to_add):\n",
    "    num_same_zipcodes_so_far[key][0] += 1\n",
    "    num_same_zipcodes_so_far[key][1] += val_to_add"
   ]
  },
  {
   "cell_type": "code",
   "execution_count": 9,
   "metadata": {
    "collapsed": true
   },
   "outputs": [],
   "source": [
    "#rbt"
   ]
  },
  {
   "cell_type": "code",
   "execution_count": 10,
   "metadata": {
    "collapsed": true
   },
   "outputs": [],
   "source": [
    "# textdf = pd.read_table(\"/Users/sangencre/Desktop/NYU/fall_17/Insight_DE_challenge/my_solution/tests/tests/test_1/input/itcont.txt\",\n",
    "#                       delimiter='|', usecols=[0, 10, 13, 14, 15], names=['ID', 'zip', 'dateorig', 'contr', 'otherID'],\n",
    "#                       skip_blank_lines=True)\n",
    "\n",
    "# textdf2=textdf[textdf.otherID != 'C00629618']\n",
    "# textdf2.head(6)"
   ]
  },
  {
   "cell_type": "markdown",
   "metadata": {},
   "source": [
    "Setup all relevant data structures"
   ]
  },
  {
   "cell_type": "code",
   "execution_count": 11,
   "metadata": {
    "collapsed": true
   },
   "outputs": [],
   "source": [
    "f = open(\"/Users/sangencre/Desktop/NYU/fall_17/Insight_DE_challenge/my_solution/tests/tests/test_1/input/itcont.txt\")\n",
    "# input_file = open(input_filename, 'r')\n",
    "# output_file_zip = open(output_filename_zip, 'w')\n",
    "# output_file_date = open(output_filename_date, 'w')\n",
    "f_out = open(\"/Users/sangencre/Desktop/NYU/fall_17/Insight_DE_challenge/my_solution/tests/tests/test_1/input/out_file_zip.txt\", \"w\")\n",
    "# wrap = []\n",
    " \n",
    "\n",
    "\n",
    "# with open(inFile,'r') as i:\n",
    "#     lines = i.readlines()\n",
    "\n",
    "# processedLines = manipulateData(lines)\n",
    "\n",
    "# with open(outFile,'w') as o:\n",
    "#     for line in processedLines:\n",
    "#         o.write(line)"
   ]
  },
  {
   "cell_type": "code",
   "execution_count": 15,
   "metadata": {},
   "outputs": [],
   "source": [
    "start=time.time()\n",
    "median = \"Median\"\n",
    "recipient_info_dict = {} \n",
    "dataframe_dict = {'ID':[], 'Date':[], 'Median':[], 'Number Contributions':[], 'Total':[], 'SortDate':[]}\n",
    "# recipient_info_dict = {'id':[{'zip':[num_contr, tot, rbt], 'zip2':[num_contr, tot, rbt],},\n",
    "#                           {'date':[num_contr, tot, rbt], 'date2':[num_contr, tot, rbt],}, ...], \n",
    "#                       'id2':[{'zip':[num_contr, tot, rbt], 'zip2':[num_contr, tot, rbt],}, ...], ...}\n",
    "def create_id_entry(current_id, current_zip, current_date, current_contrib):\n",
    "    recipient_info_dict[current_id] = []\n",
    "#     print('rec')\n",
    "    if is_zip_valid(current_zip):\n",
    "        recipient_info_dict[current_id].append({current_zip: [1, current_contrib, current_contrib]})\n",
    "        write_to_zip_file(current_id, current_zip, median, 1, current_contrib)\n",
    "        \n",
    "    if is_date_valid(current_date):\n",
    "        recipient_info_dict[current_id].append({current_date: [1, current_contrib, current_contrib]})\n",
    "        \n",
    "def create_date_entry(current_id, current_date, current_contrib):\n",
    "    if is_date_valid(current_date):\n",
    "        recipient_info_dict[current_id][1][current_date] = [1, current_contrib, current_contrib]\n",
    "    \n",
    "def create_zip_entry(current_id, current_zip, current_date, current_contrib):\n",
    "    if is_zip_valid(current_zip):\n",
    "        recipient_info_dict[current_id][0][current_zip] = [1, current_contrib, current_contrib]\n",
    "        write_to_zip_file(current_id, current_zip, median, 1, current_contrib)\n",
    "\n",
    "def write_to_zip_file(current_id, current_zip, median, num_so_far, total):\n",
    "        f_out.write(current_id + '|' + current_zip + '|')\n",
    "        f_out.write(str(median) + '|')\n",
    "        f_out.write(str(num_so_far) + '|')\n",
    "        f_out.write(str(total) + '\\n')\n",
    "        \n",
    "next = f.readline()\n",
    "while next != '':\n",
    "    if next != '\\n':\n",
    "        curr = next.split('|')\n",
    "        if curr[15] == '' and curr[0] != '' and curr[14] !='': # if OTHER_ID non-empty, ignore the record\n",
    "            curr[-1] = curr[-1].rstrip() # remove newline character\n",
    "            current_data_list = format_relevant_entries(curr) # id, zip, date, contribution\n",
    "\n",
    "            current_id = current_data_list[0]\n",
    "            current_zip = current_data_list[1]\n",
    "            current_date = current_data_list[2]\n",
    "            current_contribution = int(current_data_list[3])\n",
    "#             median = 0\n",
    "            \n",
    "            if current_id in recipient_info_dict:\n",
    "                median = 'existing'\n",
    "                if current_zip in recipient_info_dict[current_id][0]:\n",
    "                    recipient_info_dict[current_id][0][current_zip][0] += 1\n",
    "                    recipient_info_dict[current_id][0][current_zip][1] += current_contribution\n",
    "#                     recipient_info_dict[current_id][0][current_zip][2].add(current_contribution)\n",
    "#                     median = recipient_info_dict[current_id][0][current_zip][2].get_median()\n",
    "                    write_to_zip_file(current_id, current_zip, median, \n",
    "                                      recipient_info_dict[current_id][0][current_zip][0], \n",
    "                                      recipient_info_dict[current_id][0][current_zip][1])\n",
    "                else:\n",
    "                    create_zip_entry(current_id, current_zip, current_date, current_contribution)\n",
    "                    \n",
    "                if current_date in recipient_info_dict[current_id][1]:\n",
    "                    recipient_info_dict[current_id][1][current_date][0] += 1\n",
    "                    recipient_info_dict[current_id][1][current_date][1] += current_contribution\n",
    "#                     recipient_info_dict[current_id][1][current_date][2].add(current_contribution)\n",
    "                    recipient_info_dict[current_id][1][current_date][2] = \"Median\"\n",
    "                else:\n",
    "                    create_date_entry(current_id, current_date, current_contribution)\n",
    "            else:\n",
    "                median = 'new'\n",
    "#                 print('cr entry')\n",
    "                create_id_entry(current_id, current_zip, current_date, current_contribution)\n",
    "            \n",
    "    next = f.readline()\n",
    "\n",
    "\n",
    "#f.close()"
   ]
  },
  {
   "cell_type": "code",
   "execution_count": 16,
   "metadata": {},
   "outputs": [
    {
     "name": "stdout",
     "output_type": "stream",
     "text": [
      "4.349263906478882\n"
     ]
    }
   ],
   "source": [
    "for key, value in recipient_info_dict.items():\n",
    "#     print(key)\n",
    "    for date in value[1]:\n",
    "        dataframe_dict['ID'].append(key)\n",
    "        dataframe_dict['Date'].append(date)\n",
    "#         dataframe_dict['Median'] = recipient_info_dict[key][1][date][2].get_median()\n",
    "        dataframe_dict['Median'].append(median)\n",
    "        dataframe_dict['Number Contributions'].append(value[1][date][0]) \n",
    "        dataframe_dict['Total'].append(value[1][date][1])\n",
    "        dataframe_dict['SortDate'] = format_date(date)\n",
    "# print(recipient_info_dict)        \n",
    "df = pd.DataFrame(dataframe_dict, columns=['ID','Date','Median','Number Contributions','Total','SortDate'])\n",
    "df.head(7)\n",
    "df['SortDate'] = pd.to_datetime(df.SortDate)\n",
    "\n",
    "df.sort_values(by=['ID', 'SortDate'], inplace=True)\n",
    "df=df.drop('SortDate', axis=1)\n",
    "\n",
    "\n",
    "# np.savetxt(\"/Users/sangencre/Desktop/NYU/fall_17/Insight_DE_challenge/my_solution/tests/tests/test_1/input/out_file_date.txt\", df.values, delimiter=\"|\")\n",
    "df.to_csv(\"/Users/sangencre/Desktop/NYU/fall_17/Insight_DE_challenge/my_solution/tests/tests/test_1/input/out_file_date.txt\", header=None, index=None, sep='|')\n",
    "print(time.time()-start)"
   ]
  },
  {
   "cell_type": "code",
   "execution_count": 13,
   "metadata": {},
   "outputs": [
    {
     "name": "stdout",
     "output_type": "stream",
     "text": [
      "{'C00177436': [{'30004': [1, 384, 384], '30750': [1, 230, 230], '04105': [2, 768, 384]}, {'01312017': [4, 1382, 'Median']}], 'C00384818': [{'02895': [2, 583, 250]}, {'01122017': [2, 583, 'Median']}]}\n"
     ]
    }
   ],
   "source": [
    "print(recipient_info_dict)        \n"
   ]
  },
  {
   "cell_type": "code",
   "execution_count": 14,
   "metadata": {},
   "outputs": [
    {
     "data": {
      "text/html": [
       "<div>\n",
       "<style>\n",
       "    .dataframe thead tr:only-child th {\n",
       "        text-align: right;\n",
       "    }\n",
       "\n",
       "    .dataframe thead th {\n",
       "        text-align: left;\n",
       "    }\n",
       "\n",
       "    .dataframe tbody tr th {\n",
       "        vertical-align: top;\n",
       "    }\n",
       "</style>\n",
       "<table border=\"1\" class=\"dataframe\">\n",
       "  <thead>\n",
       "    <tr style=\"text-align: right;\">\n",
       "      <th></th>\n",
       "      <th>ID</th>\n",
       "      <th>Date</th>\n",
       "      <th>Median</th>\n",
       "      <th>Number Contributions</th>\n",
       "      <th>Total</th>\n",
       "    </tr>\n",
       "  </thead>\n",
       "  <tbody>\n",
       "    <tr>\n",
       "      <th>0</th>\n",
       "      <td>C00177436</td>\n",
       "      <td>01312017</td>\n",
       "      <td>existing</td>\n",
       "      <td>4</td>\n",
       "      <td>1382</td>\n",
       "    </tr>\n",
       "    <tr>\n",
       "      <th>1</th>\n",
       "      <td>C00384818</td>\n",
       "      <td>01122017</td>\n",
       "      <td>existing</td>\n",
       "      <td>2</td>\n",
       "      <td>583</td>\n",
       "    </tr>\n",
       "  </tbody>\n",
       "</table>\n",
       "</div>"
      ],
      "text/plain": [
       "          ID      Date    Median  Number Contributions  Total\n",
       "0  C00177436  01312017  existing                     4   1382\n",
       "1  C00384818  01122017  existing                     2    583"
      ]
     },
     "execution_count": 14,
     "metadata": {},
     "output_type": "execute_result"
    }
   ],
   "source": [
    "\n",
    "df.head(7)"
   ]
  },
  {
   "cell_type": "code",
   "execution_count": 102,
   "metadata": {
    "collapsed": true
   },
   "outputs": [],
   "source": [
    "# f_out = open(\"/Users/sangencre/Desktop/NYU/fall_17/Insight_DE_challenge/my_solution/tests/tests/test_1/input/out_file.txt\", \"w\")\n",
    "# for el in wrap:\n",
    "#     for el2 in el[:-1]:\n",
    "#         f_out.write(el2 + '|')\n",
    "#     f_out.write(el[-1] + '\\n')\n",
    "f_out.close()"
   ]
  },
  {
   "cell_type": "code",
   "execution_count": null,
   "metadata": {
    "collapsed": true
   },
   "outputs": [],
   "source": []
  },
  {
   "cell_type": "code",
   "execution_count": null,
   "metadata": {
    "collapsed": true
   },
   "outputs": [],
   "source": []
  }
 ],
 "metadata": {
  "kernelspec": {
   "display_name": "Python 3",
   "language": "python",
   "name": "python3"
  },
  "language_info": {
   "codemirror_mode": {
    "name": "ipython",
    "version": 3
   },
   "file_extension": ".py",
   "mimetype": "text/x-python",
   "name": "python",
   "nbconvert_exporter": "python",
   "pygments_lexer": "ipython3",
   "version": "3.6.2"
  }
 },
 "nbformat": 4,
 "nbformat_minor": 2
}
